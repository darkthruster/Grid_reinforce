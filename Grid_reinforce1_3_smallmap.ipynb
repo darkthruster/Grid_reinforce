{
 "cells": [
  {
   "cell_type": "code",
   "execution_count": 1,
   "metadata": {},
   "outputs": [],
   "source": [
    "import numpy as np\n",
    "import cv2\n",
    "from numpy import random\n",
    "import matplotlib.pyplot as plt\n",
    "import pdb\n",
    "import math as mp\n",
    "from IPython.display import clear_output"
   ]
  },
  {
   "cell_type": "code",
   "execution_count": 2,
   "metadata": {},
   "outputs": [
    {
     "data": {
      "image/png": "[encoded data removed]",
      "text/plain": [
       "<Figure size 432x288 with 1 Axes>"
      ]
     },
     "metadata": {
      "needs_background": "light"
     },
     "output_type": "display_data"
    }
   ],
   "source": [
    "# prepare the world\n",
    "map = cv2.imread('map2.png')\n",
    "map = cv2.copyMakeBorder(map,1,1,1,1,cv2.BORDER_CONSTANT,value=0)  #zero padding\n",
    "red = map[:,:,1]\n",
    "#Slice the red array\n",
    "pp = np.copy(red)  #use np.copy for creating copies\n",
    "red[pp>100]=0\n",
    "red[pp<100]=255\n",
    "playg =red\n",
    "playg[playg!=0]=1\n",
    "[ydim,xdim] = playg.shape\n",
    "\n",
    "\n",
    "#Generate environment to plot\n",
    "\n",
    "r = int(0)\n",
    "c = int(0)\n",
    "x_p = []\n",
    "y_p = []\n",
    "while(r<ydim):\n",
    "    c=0\n",
    "    while(c<xdim):\n",
    "        if(playg[r,c]==1):\n",
    "            x_p.append(c)\n",
    "          \n",
    "            y_p.append(r)\n",
    "        c = c+1\n",
    " \n",
    "    r = r+1\n",
    "    \n",
    "    \n",
    "plt.scatter(x_p,y_p)\n",
    "plt.title('Python')\n",
    "plt.xlabel('x')\n",
    "plt.ylabel('y')\n",
    "plt.show()"
   ]
  },
  {
   "cell_type": "code",
   "execution_count": 3,
   "metadata": {},
   "outputs": [],
   "source": [
    "def get_local_area(pos):  # checked \n",
    "    \n",
    "    \n",
    "    # add detect collision to it without the function.\n",
    "    \n",
    "    row = int(pos[1]); col = int(pos[0])\n",
    "    area = np.zeros((3,3),dtype = int)\n",
    "    \n",
    "    area = playg[row-1:row+2,col-1:col+2]\n",
    "    return area,(playg[row,col]==1)\n",
    "    #but what if we have pos at row =0 or row = dim -1 or col = 0  or col = dim2 - 1. So we did zero padding.\n",
    "    \n",
    "    \n",
    "    "
   ]
  },
  {
   "cell_type": "code",
   "execution_count": null,
   "metadata": {},
   "outputs": [],
   "source": []
  },
  {
   "cell_type": "code",
   "execution_count": 4,
   "metadata": {},
   "outputs": [],
   "source": [
    "def get_actual_state2(pos,goal):  # checked works for now manualy    # this is for neural network\n",
    "    a_state = np.zeros((8,2),dtype= int)   #(8,1) is obs and (8,1) is direction\n",
    "    #crop the image at the location  \n",
    "    error_angle =  mp.atan2((goal[1]-pos[1]),(goal[0]-pos[0]))\n",
    "    local_area,is_collided = get_local_area(pos)\n",
    "    angle = mp.pi/4\n",
    "    index = np.round(error_angle/angle)\n",
    "    if(not is_collided):\n",
    "        \n",
    "        if(index==8):\n",
    "            index=0\n",
    "        a_state[int(index),1] = 1  # put the direction in which goal is present   \n",
    "        for i in range(8):\n",
    "            x = np.round(mp.cos(angle*i))\n",
    "            y = np.round(mp.sin(angle*i))\n",
    "            x = x+1\n",
    "            y = y-1\n",
    "            c = int(x)\n",
    "            r = int(y)\n",
    "            #print('xy ',x-1,y-1,'rc',r,c)\n",
    "            a_state[i,0] = local_area[r,c]\n",
    "\n",
    "     \n",
    "    return a_state,is_collided     \n",
    "            \n",
    "        \n",
    "        \n",
    "        "
   ]
  },
  {
   "cell_type": "code",
   "execution_count": 5,
   "metadata": {},
   "outputs": [],
   "source": [
    "def get_actual_state(pos,goal):  # checked works for now manualy    # this is for tabular\n",
    "    l_state = np.zeros((8,),dtype= int)   #(8,1) is obs and (8,1) is direction\n",
    "    a_state = np.zeros((2,),dtype=int)\n",
    "    #crop the image at the location  \n",
    "    error_angle =  mp.atan2((goal[1]-pos[1]),(goal[0]-pos[0]))\n",
    "    local_area,is_collided = get_local_area(pos)\n",
    "    angle = mp.pi/4\n",
    "    index = np.round(error_angle/angle)\n",
    "    if(index==8):\n",
    "        index=0\n",
    "    if(not is_collided):\n",
    "        for i in range(8):\n",
    "            x = np.round(mp.cos(angle*i))\n",
    "            y = np.round(mp.sin(angle*i))\n",
    "            x = x+1\n",
    "            y = y-1\n",
    "            c = int(x)\n",
    "            r = int(y)\n",
    "            #print('xy ',x-1,y-1,'rc',r,c)\n",
    "            l_state[i] = local_area[r,c]\n",
    "\n",
    "\n",
    "        #print(local_area)\n",
    "        #print(l_state)\n",
    "        a_state[0] = encode_l_state(l_state)\n",
    "        a_state[1] = index\n",
    "    return a_state,is_collided     \n",
    "            \n",
    "        \n",
    "        \n",
    "        "
   ]
  },
  {
   "cell_type": "code",
   "execution_count": 6,
   "metadata": {},
   "outputs": [],
   "source": [
    "def encode_l_state(List): # checked works. # converts binary list to a integer.\n",
    "    result = 0\n",
    "    for digits in List:\n",
    "        result = (result << 1) | digits\n",
    "    return result"
   ]
  },
  {
   "cell_type": "code",
   "execution_count": 27,
   "metadata": {},
   "outputs": [
    {
     "data": {
      "text/plain": [
       "4095"
      ]
     },
     "execution_count": 27,
     "metadata": {},
     "output_type": "execute_result"
    }
   ],
   "source": []
  },
  {
   "cell_type": "code",
   "execution_count": 7,
   "metadata": {},
   "outputs": [],
   "source": [
    "\n",
    "#< 0 ,M 1, > 2,V 3\n",
    "\n",
    "# numpy refers by address, its an object.\n",
    "def get_next_state(pos,goal,action):  # checked works fine manually but has problem if goes at border\n",
    "        \n",
    "        new_state = np.copy(pos)\n",
    "        if(action==0):\n",
    "            new_state[0]-=1\n",
    "        elif(action==1):\n",
    "            new_state[1]+=1\n",
    "        elif(action==2):\n",
    "            new_state[0]+=1\n",
    "        elif(action==3):\n",
    "            new_state[1]-=1\n",
    "        \n",
    "        ss,is_collided = get_actual_state(new_state,goal)\n",
    "        return ss,is_collided,new_state\n",
    "    \n",
    "            "
   ]
  },
  {
   "cell_type": "code",
   "execution_count": 8,
   "metadata": {},
   "outputs": [],
   "source": [
    "def detect_collision(state):\n",
    "    col = False\n",
    "    [dim1,dim2]=playg.shape\n",
    "    if(state[1]>=dim1-1 or state[0]>dim2-1 or state[1]<0 or state[0]<0):\n",
    "        col=True\n",
    "    elif(playg[state[1],state[0]]==1):\n",
    "        col = True\n",
    "    return col"
   ]
  },
  {
   "cell_type": "code",
   "execution_count": 17,
   "metadata": {},
   "outputs": [],
   "source": [
    "def get_reward(c_state,taken_action,f_state):\n",
    "    rewardd =-1\n",
    "    c_dis = np.sum(f_state-c_state)\n",
    "   \n",
    "    p_dis = np.sum(f_state - prev_state)\n",
    "   \n",
    "    dis = p_dis-c_dis\n",
    "    \n",
    "    if(detect_collision(c_state)):\n",
    "        rewardd = -10\n",
    "    elif(np.sum(c_state == f_state)==2):\n",
    "        rewardd = 100\n",
    "    elif(dis<0):\n",
    "        rewardd=-1\n",
    "    \n",
    "    return rewardd"
   ]
  },
  {
   "cell_type": "code",
   "execution_count": 10,
   "metadata": {},
   "outputs": [],
   "source": [
    "def get_action(Q_value):\n",
    "    ran = random.rand(1)  #Generates random float number between 0-1\n",
    "    rn = ran[0]\n",
    "    if(rn>epsilon):\n",
    "        action=find_max_index(Q_value)\n",
    "        return action\n",
    "    else:\n",
    "        action = random.randint(4)  # generate random number betwween 0-3\n",
    "        return action"
   ]
  },
  {
   "cell_type": "code",
   "execution_count": 11,
   "metadata": {},
   "outputs": [],
   "source": [
    "def find_max_index(array):\n",
    "    max_no=-100000000000\n",
    "    max_in=0\n",
    "    for i in range(len(array)):\n",
    "        if(array[i]>max_no):\n",
    "            max_no=array[i]\n",
    "            max_in=i\n",
    "    return max_in\n",
    "        "
   ]
  },
  {
   "cell_type": "code",
   "execution_count": 12,
   "metadata": {},
   "outputs": [],
   "source": [
    "#EPISODE_PLOTTER\n",
    "def plot_episode(x_co,y_co):\n",
    "    x_co = 10*x_co\n",
    "    y_co = 10*y_co\n",
    "    #plot environment\n",
    "    plt.scatter(x_p,y_p)\n",
    "    #plot vehicle path\n",
    "    plt.plot(x_co,y_co)\n",
    "    plt.title('Vehicle plot')\n",
    "    plt.xlabel('x')\n",
    "    plt.ylabel('y')\n",
    "    plt.show()"
   ]
  },
  {
   "cell_type": "code",
   "execution_count": 44,
   "metadata": {},
   "outputs": [],
   "source": [
    "#Issue\n",
    "\n",
    "# is_collided was only telling whether it hit the border or not and not the actual collisions\n",
    "#using detect_collision is too slow.\n",
    "\n",
    "#Typo in get reward it was rewardd for going towards goal."
   ]
  },
  {
   "cell_type": "code",
   "execution_count": null,
   "metadata": {},
   "outputs": [],
   "source": []
  },
  {
   "cell_type": "code",
   "execution_count": 13,
   "metadata": {},
   "outputs": [
    {
     "name": "stdout",
     "output_type": "stream",
     "text": [
      "Episode no  3999\n"
     ]
    }
   ],
   "source": [
    "#state space.shape = [2,1]  state_space[1] --> 0-255 obstacle category   state_space[2]--> 0-8goal direction\n",
    "\n",
    "#Qvalue.shape = [no_of_state_values,no_direction_values,no_of_action]\n",
    "\n",
    "#paramameters\n",
    "\n",
    "epsilon = 0.1\n",
    "gamma = 0.95\n",
    "alpha = 0.1\n",
    "\n",
    "no_episodes =4000\n",
    "start_pos = np.ones((2,),dtype = int)\n",
    "goal = np.ones((2,),dtype = int)\n",
    "goal[0]=int(11)\n",
    "goal[1] = int(8)\n",
    "\n",
    "Q= np.zeros((256,8,4),dtype = float)\n",
    "        #print(done)   \n",
    "s_state,temp=get_actual_state(start_pos,goal)\n",
    "s1 = s_state[0]\n",
    "s2 = s_state[1]\n",
    "action = get_action(Q[s1,s2,:])\n",
    "curr_pos = np.copy(start_pos)\n",
    "n_pos = np.copy(start_pos)\n",
    "\n",
    "\n",
    "\n",
    "\n",
    "\n",
    "\n",
    "for i in range(no_episodes):\n",
    "    \n",
    "    curr_pos = np.copy(start_pos)\n",
    "    s_state,temp=get_actual_state(curr_pos,goal)\n",
    "    s1 = s_state[0]\n",
    "    s2 = s_state[1]\n",
    "    action = get_action(Q[s1,s2,:])\n",
    "    done = False\n",
    "    n_action=0\n",
    "    clear_output(wait=True)\n",
    "    if(i<100):\n",
    "        epsilon = 0.8\n",
    "    elif(i>100 or i<300):\n",
    "        epsilon = 0.4\n",
    "    else:\n",
    "        epsilon = 0.1\n",
    "    #epsilon = 1.001  - i/no_episodes/2\n",
    "    \n",
    "    print('Episode no ',i)\n",
    "    while(not done):\n",
    "        n_state,is_collided,n_pos = get_next_state(curr_pos,goal,action)\n",
    "        \n",
    "        reward = get_reward(n_pos,curr_pos,goal)\n",
    "       \n",
    "        curr_state,temp = get_actual_state(curr_pos,goal)\n",
    "        \n",
    "        cs1 = curr_state[0]\n",
    "        cs2 = curr_state[1]\n",
    "        #print(curr_pos,cs1,cs2,reward)\n",
    "        if(is_collided):\n",
    "            Q[cs1,cs2,action]+= alpha*(reward)\n",
    "            break\n",
    "            #print('Q',Q[cs1,cs2,action])\n",
    "        else:\n",
    "            n_action = get_action(Q[n_state[0],n_state[1],:])\n",
    "            Q[cs1,cs2,action]+= alpha*(reward + gamma*Q[n_state[0],n_state[1],n_action]-Q[cs1,cs2,action])\n",
    "         \n",
    "        #print(Q[n_state[0],n_state[1],:],' action ',n_action,' for pos ',n_pos,' reward ', reward)\n",
    "        \n",
    "        curr_pos =np.copy(n_pos)\n",
    "        #x_j.append(n_pos[0])\n",
    "        #y_j.append(n_pos[1])\n",
    "        action = n_action\n",
    "        \n",
    "        if(reward==100 or is_collided):  # compare with max reward.\n",
    "            #print('Goal Achieved')\n",
    "            done = True\n",
    "       \n",
    "        \n",
    "       \n",
    "    \n",
    "    \n",
    "    \n",
    "    \n",
    "    "
   ]
  },
  {
   "cell_type": "code",
   "execution_count": 23,
   "metadata": {},
   "outputs": [
    {
     "name": "stdout",
     "output_type": "stream",
     "text": [
      "Episode no  0\n",
      "Qnext  [-340.          -96.26423616  -49.89273665 -140.07234223]  action  2  for pos  [1 2]  reward  -1\n",
      "Qnext  [-61.0023095  -60.74993473 -45.66907229 -89.7350491 ]  action  2  for pos  [2 2]  reward  -1\n",
      "Qnext  [-61.0023095  -60.74993473 -49.72699472 -89.7350491 ]  action  3  for pos  [3 2]  reward  -1\n",
      "Qnext  [-163.35101016  -57.72066116  -88.69969139 -329.        ]  action  1  for pos  [3 1]  reward  -1\n",
      "Qnext  [-61.0023095  -60.74993473 -49.72699472 -86.345007  ]  action  2  for pos  [3 2]  reward  -1\n",
      "Qnext  [-61.0023095  -60.74993473 -49.57835975 -86.345007  ]  action  2  for pos  [4 2]  reward  -1\n",
      "Qnext  [-61.0023095  -60.74993473 -49.43046795 -86.345007  ]  action  2  for pos  [5 2]  reward  -1\n",
      "Qnext  [ -36.97312343  -34.33540793 -242.          -48.68778565]  action  1  for pos  [6 2]  reward  -1\n",
      "Qnext  [-40.84371531 -38.10584138 -32.71351617 -42.99833811]  action  2  for pos  [6 3]  reward  -1\n",
      "Qnext  [-32.47719246 -38.09898065 -30.17080716 -75.        ]  action  2  for pos  [7 3]  reward  -1\n",
      "Qnext  [-30.10517603 -35.83339479 -24.38777942 -34.79562866]  action  2  for pos  [8 3]  reward  -1\n",
      "Qnext  [-16.48540078  -2.38708872  12.70447254 -11.48805214]  action  2  for pos  [9 3]  reward  -1\n",
      "Qnext  [-16.48540078  -2.38708872  12.54095017 -11.48805214]  action  2  for pos  [10  3]  reward  -1\n",
      "Qnext  [-16.48540078  -2.38708872  12.37824542 -11.48805214]  action  2  for pos  [11  3]  reward  -1\n",
      "Qnext  [ -9.48031346  12.88127454 -77.         -13.41554841]  action  1  for pos  [12  3]  reward  -1\n",
      "Qnext  [ -9.48031346  12.71686817 -77.         -13.41554841]  action  1  for pos  [12  4]  reward  -1\n",
      "Qnext  [ -9.48031346  12.55328383 -77.         -13.41554841]  action  1  for pos  [12  5]  reward  -1\n",
      "Qnext  [  4.64040237  46.51102297 -39.          22.28182608]  action  1  for pos  [12  6]  reward  -1\n",
      "Qnext  [  4.64040237  46.17846785 -39.          22.28182608]  action  1  for pos  [12  7]  reward  -1\n",
      "Qnext  [ 77.31567842  11.59472528 -11.          12.90952563]  action  0  for pos  [12  8]  reward  -1\n",
      "Qnext  [-30.92724211 -33.341857   -26.25678501 -32.08144557]  action  2  for pos  [11  8]  reward  100\n",
      "Episode no  1\n",
      "Qnext  [-340.          -96.26423616  -49.34202486 -140.07234223]  action  2  for pos  [1 2]  reward  -1\n",
      "Qnext  [-61.0023095  -60.74993473 -47.84928491 -86.345007  ]  action  2  for pos  [2 2]  reward  -1\n",
      "Qnext  [-61.0023095  -60.74993473 -47.71003849 -86.345007  ]  action  2  for pos  [3 2]  reward  -1\n",
      "Qnext  [-61.0023095  -60.74993473 -47.57148829 -86.345007  ]  action  2  for pos  [4 2]  reward  -1\n",
      "Qnext  [-61.0023095  -60.74993473 -47.43363085 -86.345007  ]  action  2  for pos  [5 2]  reward  -1\n",
      "Qnext  [ -36.97312343  -34.10965117 -242.          -48.68778565]  action  3  for pos  [6 2]  reward  -1\n",
      "Qnext  [-59.13253045 -40.98344737 -52.00025808 -46.        ]  action  1  for pos  [6 1]  reward  -1\n",
      "Qnext  [ -36.97312343  -34.10965117 -242.          -47.81243459]  action  1  for pos  [6 2]  reward  -1\n",
      "Qnext  [-40.84371531 -38.10584138 -32.40839123 -42.99833811]  action  2  for pos  [6 3]  reward  -1\n",
      "Qnext  [-32.47719246 -38.09898065 -29.57056549 -75.        ]  action  2  for pos  [7 3]  reward  -1\n",
      "Qnext  [-30.10517603 -35.83339479 -20.84207659 -34.79562866]  action  2  for pos  [8 3]  reward  -1\n",
      "Qnext  [-16.48540078  -2.38708872  12.26414196 -11.48805214]  action  2  for pos  [9 3]  reward  -1\n",
      "Qnext  [-16.48540078  -2.38708872  12.10282125 -11.48805214]  action  2  for pos  [10  3]  reward  -1\n",
      "Qnext  [-16.48540078  -2.38708872  11.94230715 -11.48805214]  action  2  for pos  [11  3]  reward  -1\n",
      "Qnext  [ -9.48031346  15.61650263 -77.         -13.41554841]  action  1  for pos  [12  3]  reward  -1\n",
      "Qnext  [ -9.48031346  15.43842011 -77.         -13.41554841]  action  1  for pos  [12  4]  reward  -1\n",
      "Qnext  [ -9.48031346  15.26122801 -77.         -13.41554841]  action  1  for pos  [12  5]  reward  -1\n",
      "Qnext  [  4.64040237  48.80561052 -39.          22.28182608]  action  1  for pos  [12  6]  reward  -1\n",
      "Qnext  [  4.64040237  48.46158246 -39.          22.28182608]  action  1  for pos  [12  7]  reward  -1\n",
      "Qnext  [ 77.089716    11.59472528 -11.          12.90952563]  action  0  for pos  [12  8]  reward  -1\n",
      "Qnext  [-30.92724211 -33.341857   -26.25678501 -32.08144557]  action  2  for pos  [11  8]  reward  100\n",
      "Episode no  2\n",
      "Qnext  [-340.          -96.26423616  -49.05350444 -140.07234223]  action  2  for pos  [1 2]  reward  -1\n",
      "Qnext  [-61.0023095  -60.74993473 -47.4156074  -86.345007  ]  action  2  for pos  [2 2]  reward  -1\n",
      "Qnext  [-61.0023095  -60.74993473 -47.27852937 -86.345007  ]  action  2  for pos  [3 2]  reward  -1\n",
      "Qnext  [-61.0023095  -60.74993473 -47.14213672 -86.345007  ]  action  2  for pos  [4 2]  reward  -1\n",
      "Qnext  [-61.0023095  -60.74993473 -47.00642604 -86.345007  ]  action  2  for pos  [5 2]  reward  -1\n",
      "Qnext  [ -36.97312343  -33.87748322 -242.          -47.81243459]  action  1  for pos  [6 2]  reward  -1\n",
      "Qnext  [-40.84371531 -38.10584138 -32.07675583 -42.99833811]  action  2  for pos  [6 3]  reward  -1\n",
      "Qnext  [-32.47719246 -38.09898065 -28.69350622 -75.        ]  action  2  for pos  [7 3]  reward  -1\n",
      "Qnext  [-30.10517603 -35.83339479 -17.69277545 -34.79562866]  action  2  for pos  [8 3]  reward  -1\n",
      "Qnext  [-16.48540078  -2.38708872  12.13164418 -11.48805214]  action  2  for pos  [9 3]  reward  -1\n",
      "Qnext  [-16.48540078  -2.38708872  11.97098596 -11.48805214]  action  2  for pos  [10  3]  reward  -1\n",
      "Qnext  [-16.48540078  -2.38708872  10.44711394 -11.48805214]  action  1  for pos  [11  3]  reward  -1\n",
      "Qnext  [-16.48540078  -1.25590402  10.44711394 -11.48805214]  action  2  for pos  [11  4]  reward  -1\n",
      "Qnext  [ -9.48031346  18.27163821 -77.         -13.41554841]  action  1  for pos  [12  4]  reward  -1\n",
      "Qnext  [ -9.48031346  18.08028002 -77.         -13.41554841]  action  1  for pos  [12  5]  reward  -1\n",
      "Qnext  [  4.64040237  50.83894724 -39.          22.28182608]  action  1  for pos  [12  6]  reward  -1\n",
      "Qnext  [  4.64040237  50.4847525  -39.          22.28182608]  action  1  for pos  [12  7]  reward  -1\n",
      "Qnext  [ 76.88634982  11.59472528 -11.          12.90952563]  action  0  for pos  [12  8]  reward  -1\n",
      "Qnext  [-30.92724211 -33.341857   -26.25678501 -32.08144557]  action  2  for pos  [11  8]  reward  100\n"
     ]
    }
   ],
   "source": [
    "# Manual Check\n",
    "epsilon = 0.1\n",
    "gamma = 0.95\n",
    "alpha = 0.1\n",
    "\n",
    "no_episodes =3\n",
    "start_pos = np.ones((2,),dtype = int)\n",
    "goal = np.ones((2,),dtype = int)\n",
    "goal[0]=int(11)\n",
    "goal[1] = int(8)\n",
    "\n",
    "#Q= np.zeros((256,8,4),dtype = float)\n",
    "        #print(done)   \n",
    "s_state,temp=get_actual_state(start_pos,goal)\n",
    "s1 = s_state[0]\n",
    "s2 = s_state[1]\n",
    "action = get_action(Q[s1,s2,:])\n",
    "curr_pos = np.copy(start_pos)\n",
    "n_pos = np.copy(start_pos)\n",
    "\n",
    "\n",
    "\n",
    "\n",
    "\n",
    "\n",
    "for i in range(no_episodes):\n",
    "    \n",
    "    curr_pos = np.copy(start_pos)\n",
    "    s_state,temp=get_actual_state(curr_pos,goal)\n",
    "    s1 = s_state[0]\n",
    "    s2 = s_state[1]\n",
    "    action = get_action(Q[s1,s2,:])\n",
    "    done = False\n",
    "    n_action=0\n",
    "    #clear_output(wait=True)\n",
    "    #epsilon = 1.001  - i/no_episodes/2\n",
    "    '''\n",
    "    if(i%100==0 and i>1):\n",
    "        print(i)\n",
    "        print(Q[n_state[0],n_state[1],:], 'for state ',n_state[0],n_state[1], 'goal distance ',np.sum(goal-n_pos),' action ',n_action,' for pos ',n_pos)\n",
    "        plot_episode(x_j,y_j)\n",
    "   \n",
    "    x_j = []\n",
    "    y_j = []\n",
    "    \n",
    "    '''\n",
    "    \n",
    "    print('Episode no ',i)\n",
    "    while(not done):\n",
    "        n_state,is_collided,n_pos = get_next_state(curr_pos,goal,action)\n",
    "        \n",
    "        reward = get_reward(n_pos,curr_pos,goal)\n",
    "       \n",
    "        curr_state,temp = get_actual_state(curr_pos,goal)\n",
    "        \n",
    "        cs1 = curr_state[0]\n",
    "        cs2 = curr_state[1]\n",
    "        #print(curr_pos,cs1,cs2,reward)\n",
    "        if(is_collided):\n",
    "            Q[cs1,cs2,action]+= alpha*(reward)\n",
    "            break\n",
    "            #print('Q',Q[cs1,cs2,action])\n",
    "        else:\n",
    "            n_action = get_action(Q[n_state[0],n_state[1],:])\n",
    "            Q[cs1,cs2,action]+= alpha*(reward + gamma*Q[n_state[0],n_state[1],n_action]-Q[cs1,cs2,action])\n",
    "        #print('Qcurr changed of',Q[cs1,cs2,:], 'for pose ',curr_pos, 'is collided',is_collided,n_pos )\n",
    "        print('Qnext ',Q[n_state[0],n_state[1],:],' action ',n_action,' for pos ',n_pos,' reward ', reward)\n",
    "        \n",
    "        curr_pos =np.copy(n_pos)\n",
    "        #x_j.append(n_pos[0])\n",
    "        #y_j.append(n_pos[1])\n",
    "        action = n_action\n",
    "        \n",
    "        if(np.sum(curr_pos==goal)==2 or is_collided):\n",
    "            done = True\n",
    "        \n",
    "       \n",
    "    \n",
    "    \n",
    "    \n",
    "    \n",
    "    "
   ]
  },
  {
   "cell_type": "code",
   "execution_count": 25,
   "metadata": {},
   "outputs": [
    {
     "data": {
      "image/png": "[encoded data removed]",
      "text/plain": [
       "<Figure size 432x288 with 1 Axes>"
      ]
     },
     "metadata": {
      "needs_background": "light"
     },
     "output_type": "display_data"
    }
   ],
   "source": [
    "plot_episode(x_j,y_j)"
   ]
  },
  {
   "cell_type": "code",
   "execution_count": 24,
   "metadata": {},
   "outputs": [
    {
     "name": "stdout",
     "output_type": "stream",
     "text": [
      "19 [11  8]\n"
     ]
    }
   ],
   "source": [
    "#generate the trajectory\n",
    "position = np.ones((2,),dtype = int)\n",
    "epsilon=0\n",
    "x_j = []\n",
    "y_j = []\n",
    "done=False\n",
    "count=0\n",
    "curr_pos = np.copy(start_pos)\n",
    "\n",
    "count=0\n",
    "while(not done):\n",
    "    # get the encoded state\n",
    "    \n",
    "    n_state,temp = get_actual_state(curr_pos,goal)\n",
    "    n_action = get_action(Q[n_state[0],n_state[1],:])\n",
    "    n_state,is_collided,n_pos = get_next_state(curr_pos,goal,n_action)\n",
    "    curr_pos = np.copy(n_pos)\n",
    "    #print(curr_pos)\n",
    "    x_j.append(curr_pos[0])\n",
    "    y_j.append(curr_pos[1])\n",
    "    count+=1\n",
    "    print(count,curr_pos)\n",
    "    clear_output(wait=True)\n",
    "    if(np.sum(curr_pos==goal)==2 or detect_collision(curr_pos)):\n",
    "            done = True\n",
    "        \n"
   ]
  },
  {
   "cell_type": "code",
   "execution_count": 42,
   "metadata": {},
   "outputs": [
    {
     "data": {
      "image/png": "[encoded data removed]",
      "text/plain": [
       "<Figure size 432x288 with 1 Axes>"
      ]
     },
     "metadata": {
      "needs_background": "light"
     },
     "output_type": "display_data"
    }
   ],
   "source": []
  },
  {
   "cell_type": "code",
   "execution_count": 33,
   "metadata": {},
   "outputs": [
    {
     "data": {
      "image/png": "[encoded data removed]",
      "text/plain": [
       "<Figure size 432x288 with 1 Axes>"
      ]
     },
     "metadata": {
      "needs_background": "light"
     },
     "output_type": "display_data"
    }
   ],
   "source": [
    "plt.scatter(x_j,y_j)\n",
    "plt.title('Python')\n",
    "plt.xlabel('x')\n",
    "plt.ylabel('y')\n",
    "plt.show()"
   ]
  },
  {
   "cell_type": "code",
   "execution_count": 49,
   "metadata": {},
   "outputs": [
    {
     "data": {
      "text/plain": [
       "True"
      ]
     },
     "execution_count": 49,
     "metadata": {},
     "output_type": "execute_result"
    }
   ],
   "source": [
    "detect_collision([x_j[-1],y_j[-1]])"
   ]
  },
  {
   "cell_type": "code",
   "execution_count": null,
   "metadata": {},
   "outputs": [],
   "source": [
    "Q"
   ]
  },
  {
   "cell_type": "code",
   "execution_count": 20,
   "metadata": {},
   "outputs": [
    {
     "data": {
      "text/plain": [
       "3577"
      ]
     },
     "execution_count": 20,
     "metadata": {},
     "output_type": "execute_result"
    }
   ],
   "source": [
    "i"
   ]
  },
  {
   "cell_type": "code",
   "execution_count": null,
   "metadata": {},
   "outputs": [],
   "source": []
  }
 ],
 "metadata": {
  "kernelspec": {
   "display_name": "Python 3",
   "language": "python",
   "name": "python3"
  },
  "language_info": {
   "codemirror_mode": {
    "name": "ipython",
    "version": 3
   },
   "file_extension": ".py",
   "mimetype": "text/x-python",
   "name": "python",
   "nbconvert_exporter": "python",
   "pygments_lexer": "ipython3",
   "version": "3.8.5"
  }
 },
 "nbformat": 4,
 "nbformat_minor": 4
}
